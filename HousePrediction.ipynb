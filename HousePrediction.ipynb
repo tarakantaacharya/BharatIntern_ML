{
  "nbformat": 4,
  "nbformat_minor": 0,
  "metadata": {
    "colab": {
      "provenance": [],
      "authorship_tag": "ABX9TyMd9XsoxAJT9N0GQMWYGULO",
      "include_colab_link": true
    },
    "kernelspec": {
      "name": "python3",
      "display_name": "Python 3"
    },
    "language_info": {
      "name": "python"
    }
  },
  "cells": [
    {
      "cell_type": "markdown",
      "metadata": {
        "id": "view-in-github",
        "colab_type": "text"
      },
      "source": [
        "<a href=\"https://colab.research.google.com/github/tarakantaacharya/BharatIntern_task1/blob/main/HousePrediction.ipynb\" target=\"_parent\"><img src=\"https://colab.research.google.com/assets/colab-badge.svg\" alt=\"Open In Colab\"/></a>"
      ]
    },
    {
      "cell_type": "code",
      "execution_count": 23,
      "metadata": {
        "colab": {
          "base_uri": "https://localhost:8080/"
        },
        "id": "1pQod_yBGlZz",
        "outputId": "584738c3-4f79-4e1d-eccb-c7b5b2e17a36"
      },
      "outputs": [
        {
          "output_type": "stream",
          "name": "stdout",
          "text": [
            "   SquareFeet  Bedrooms  Bathrooms Neighborhood  YearBuilt          Price\n",
            "0        2126         4          1        Rural       1969  215355.283618\n",
            "1        2459         3          2        Rural       1980  195014.221626\n",
            "2        1860         2          1       Suburb       1970  306891.012076\n",
            "3        2294         2          1        Urban       1996  206786.787153\n",
            "4        2130         5          2       Suburb       2001  272436.239065\n",
            "Dec Mean Squared Error: 5716136039.764232\n",
            "Ridge Mean Squared Error: 2451644898.254956\n",
            "Lasso Mean Squared Error: 2451640349.6590867\n",
            "Random Mean Squared Error: 3302910179.031675\n",
            "Lin Mean Squared Error: 2451645430.3171725\n"
          ]
        }
      ],
      "source": [
        "import numpy as np\n",
        "import pandas as pd\n",
        "d=pd.read_csv('housing_price_dataset.csv')\n",
        "print(d.head())\n",
        "\n",
        "X=d.iloc[:,[0,1,2]]\n",
        "Y=d.iloc[:,5]\n",
        "from sklearn.model_selection import train_test_split\n",
        "X_train, X_rem, y_train, y_rem = train_test_split(X, Y, test_size=0.2, random_state=42)\n",
        "X_val, X_test, y_val, y_test = train_test_split(X_rem, y_rem, test_size=0.5, random_state=42)\n",
        "\n",
        "from sklearn.tree import DecisionTreeRegressor\n",
        "b=DecisionTreeRegressor(max_depth=6)\n",
        "from sklearn.linear_model import Ridge\n",
        "c=Ridge()\n",
        "from sklearn.linear_model import Lasso\n",
        "d=Lasso()\n",
        "from sklearn.ensemble import RandomForestRegressor\n",
        "e=RandomForestRegressor()\n",
        "from sklearn.linear_model import LinearRegression\n",
        "f=LinearRegression()\n",
        "\n",
        "b.fit(X_train,Y_train)\n",
        "predictions=b.predict(X_test)\n",
        "from sklearn.metrics import mean_squared_error\n",
        "mse = mean_squared_error(y_test, predictions)\n",
        "print(\"Dec Mean Squared Error:\", mse)\n",
        "\n",
        "c.fit(X_train,y_train)\n",
        "predictions1=c.predict(X_test)\n",
        "from sklearn.metrics import mean_squared_error\n",
        "mse = mean_squared_error(y_test, predictions1)\n",
        "print(\"Ridge Mean Squared Error:\", mse)\n",
        "\n",
        "d.fit(X_train,y_train)\n",
        "predictions2=d.predict(X_test)\n",
        "from sklearn.metrics import mean_squared_error\n",
        "mse = mean_squared_error(y_test, predictions2)\n",
        "print(\"Lasso Mean Squared Error:\", mse)\n",
        "\n",
        "e.fit(X_train,y_train)\n",
        "predictions3=e.predict(X_test)\n",
        "from sklearn.metrics import mean_squared_error\n",
        "mse = mean_squared_error(y_test, predictions3)\n",
        "print(\"Random Mean Squared Error:\", mse)\n",
        "\n",
        "f.fit(X_train,y_train)\n",
        "predictions4=f.predict(X_test)\n",
        "from sklearn.metrics import mean_squared_error\n",
        "mse = mean_squared_error(y_test, predictions4)\n",
        "print(\"Lin Mean Squared Error:\", mse)"
      ]
    },
    {
      "cell_type": "code",
      "source": [
        "df2={'SquareFeet':2854,'Bedrooms':3.5,'Bathrooms':2}\n",
        "df2=pd.DataFrame(df2,index=[0])\n",
        "print(df2)\n",
        "predictions=b.predict(df2)\n",
        "print('Price for the df2 data:',predictions)"
      ],
      "metadata": {
        "colab": {
          "base_uri": "https://localhost:8080/"
        },
        "id": "8J6844gMMrGy",
        "outputId": "8c1b805f-dae1-45e9-ab34-895723c53c9d"
      },
      "execution_count": null,
      "outputs": [
        {
          "output_type": "stream",
          "name": "stdout",
          "text": [
            "   SquareFeet  Bedrooms  Bathrooms\n",
            "0        2854       3.5          2\n",
            "Price for the df2 data: [308953.39045686]\n"
          ]
        }
      ]
    },
    {
      "cell_type": "code",
      "source": [
        "# Loading the dataset\n",
        "import numpy as np\n",
        "import pandas as pd\n",
        "from sklearn.model_selection import train_test_split\n",
        "from sklearn.linear_model import Ridge\n",
        "from sklearn.metrics import mean_squared_error\n",
        "import tensorflow as tf\n",
        "from tensorflow.keras.layers import Dense, Dropout\n",
        "from tensorflow.keras import regularizers\n",
        "from tensorflow.keras.callbacks import EarlyStopping\n",
        "\n",
        "# Read the dataset\n",
        "d = pd.read_csv('housing_price_dataset.csv')\n",
        "print(d)\n",
        "\n",
        "# Selecting features and target\n",
        "X = d.iloc[:, [0, 1, 2]]\n",
        "Y = d.iloc[:, 5]\n",
        "\n",
        "# Splitting the data into training, validation, and test sets\n",
        "X_train, X_rem, y_train, y_rem = train_test_split(X, Y, test_size=0.2, random_state=42)\n",
        "X_val, X_test, y_val, y_test = train_test_split(X_rem, y_rem, test_size=0.5, random_state=42)\n",
        "\n",
        "# Using Ridge regression\n",
        "ridge_model = Ridge()\n",
        "ridge_model.fit(X_train, y_train)\n",
        "predictions1 = ridge_model.predict(X_test)\n",
        "mse_ridge = mean_squared_error(y_test, predictions1)\n",
        "print(\"Ridge Mean Squared Error:\", mse_ridge)\n",
        "\n",
        "# Using TensorFlow to reduce the MSE\n",
        "# Define the model\n",
        "model = tf.keras.Sequential([\n",
        "    tf.keras.layers.Dense(64, activation='relu', input_shape=(X_train.shape[1],)),\n",
        "    tf.keras.layers.Dense(64, activation='relu'),\n",
        "    tf.keras.layers.Dense(1)\n",
        "])\n",
        "\n",
        "# Adding regularization and dropout\n",
        "model.add(Dense(64, activation='relu', kernel_regularizer=regularizers.l2(0.01)))\n",
        "model.add(Dropout(0.5))\n",
        "\n",
        "# Compile the model\n",
        "model.compile(optimizer='adam', loss='mse')\n",
        "\n",
        "# Early stopping\n",
        "early_stopping = EarlyStopping(monitor='val_loss', patience=5, restore_best_weights=True)\n",
        "\n",
        "# Train the model\n",
        "history = model.fit(X_train, y_train, epochs=50, validation_data=(X_val, y_val), callbacks=[early_stopping])\n",
        "\n",
        "# Predict and evaluate\n",
        "y_pred = model.predict(X_test)\n",
        "mse_tf = model.evaluate(X_test, y_test, verbose=0)\n",
        "print(\"TensorFlow Mean Squared Error:\", mse_tf)\n",
        "\n",
        "# Prediction for new data\n",
        "df2 = pd.DataFrame({'SquareFeet': [2854], 'Bedrooms': [3.5], 'Bathrooms': [2]})\n",
        "print(df2)\n",
        "predictions_new = ridge_model.predict(df2)\n",
        "print('Price for the new data:', predictions_new)\n"
      ],
      "metadata": {
        "colab": {
          "base_uri": "https://localhost:8080/"
        },
        "id": "jwtiHNnBnh0T",
        "outputId": "1a210caf-fcc7-4f0d-d30f-3c1bc16532ea"
      },
      "execution_count": 24,
      "outputs": [
        {
          "output_type": "stream",
          "name": "stdout",
          "text": [
            "       SquareFeet  Bedrooms  Bathrooms Neighborhood  YearBuilt          Price\n",
            "0            2126         4          1        Rural       1969  215355.283618\n",
            "1            2459         3          2        Rural       1980  195014.221626\n",
            "2            1860         2          1       Suburb       1970  306891.012076\n",
            "3            2294         2          1        Urban       1996  206786.787153\n",
            "4            2130         5          2       Suburb       2001  272436.239065\n",
            "...           ...       ...        ...          ...        ...            ...\n",
            "49995        1282         5          3        Rural       1975  100080.865895\n",
            "49996        2854         2          2       Suburb       1988  374507.656727\n",
            "49997        2979         5          3       Suburb       1962  384110.555590\n",
            "49998        2596         5          2        Rural       1984  380512.685957\n",
            "49999        1572         5          3        Rural       2011  221618.583218\n",
            "\n",
            "[50000 rows x 6 columns]\n",
            "Ridge Mean Squared Error: 2451644898.254956\n",
            "Epoch 1/50\n",
            "1250/1250 [==============================] - 4s 2ms/step - loss: 41564672000.0000 - val_loss: 25424371712.0000\n",
            "Epoch 2/50\n",
            "1250/1250 [==============================] - 3s 2ms/step - loss: 32500963328.0000 - val_loss: 15713910784.0000\n",
            "Epoch 3/50\n",
            "1250/1250 [==============================] - 3s 2ms/step - loss: 29494108160.0000 - val_loss: 16156467200.0000\n",
            "Epoch 4/50\n",
            "1250/1250 [==============================] - 3s 2ms/step - loss: 29447409664.0000 - val_loss: 15171535872.0000\n",
            "Epoch 5/50\n",
            "1250/1250 [==============================] - 4s 3ms/step - loss: 29491138560.0000 - val_loss: 15839476736.0000\n",
            "Epoch 6/50\n",
            "1250/1250 [==============================] - 3s 2ms/step - loss: 29481682944.0000 - val_loss: 16092930048.0000\n",
            "Epoch 7/50\n",
            "1250/1250 [==============================] - 2s 2ms/step - loss: 29491752960.0000 - val_loss: 15690131456.0000\n",
            "Epoch 8/50\n",
            "1250/1250 [==============================] - 2s 2ms/step - loss: 29481568256.0000 - val_loss: 15286406144.0000\n",
            "Epoch 9/50\n",
            "1250/1250 [==============================] - 3s 2ms/step - loss: 29454995456.0000 - val_loss: 15759429632.0000\n",
            "157/157 [==============================] - 0s 1ms/step\n",
            "TensorFlow Mean Squared Error: 15420427264.0\n",
            "   SquareFeet  Bedrooms  Bathrooms\n",
            "0        2854       3.5          2\n",
            "Price for the new data: [309048.31260834]\n"
          ]
        }
      ]
    }
  ]
}